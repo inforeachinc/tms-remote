{
 "cells": [
  {
   "cell_type": "markdown",
   "metadata": {},
   "source": [
    "# Python Sample"
   ]
  },
  {
   "cell_type": "code",
   "execution_count": 12,
   "metadata": {},
   "outputs": [],
   "source": [
    "import os\n",
    "import grpc\n",
    "import time\n",
    "import sched\n",
    "import csv\n",
    "import logging\n",
    "\n",
    "from IterableQueue import IterableQueue\n",
    "from EventThread import EventThread\n",
    "\n",
    "from remote.TMSRemote_pb2_grpc import *\n",
    "from remote.TMSRemoteCommon_pb2 import *\n",
    "from remote.TMSRemoteRequests_pb2 import *\n",
    "from remote.TMSTradingRequests_pb2 import *"
   ]
  },
  {
   "cell_type": "code",
   "execution_count": 13,
   "metadata": {},
   "outputs": [],
   "source": [
    "# Server and logon prameters \n",
    "SERVER = 'localhost'\n",
    "GRPCPORT = '8083'\n",
    "USER = 'demo'\n",
    "PASSWORD = ''\n",
    "\n",
    "#additional init\n",
    "\n",
    "FILE_NAME = 'grpcSample.csv'\n",
    "STRING_FIELDS = set(['Instrument', 'ClientName', 'SetPxTo'])\n",
    "\n",
    "directory = os.getcwd()\n",
    "\n",
    "logging_format = '%(asctime)s %(levelname)-6s %(message)s'\n",
    "logging.basicConfig(level=logging.INFO, format=logging_format)\n",
    "fh = logging.FileHandler(directory + '/sample.log')\n",
    "fh.setFormatter(logging.Formatter(logging_format))\n",
    "logging.getLogger('').addHandler(fh)\n",
    "\n",
    "\n"
   ]
  },
  {
   "cell_type": "code",
   "execution_count": 14,
   "metadata": {},
   "outputs": [],
   "source": [
    "# Connect to server\n",
    "\n",
    "ssl_credentials = grpc.ssl_channel_credentials(open(directory + '/cert.pem', 'rb').read())\n",
    "channel = grpc.secure_channel(SERVER + ':' + GRPCPORT, ssl_credentials)\n",
    "client = TMSRemoteStub(channel)"
   ]
  },
  {
   "cell_type": "code",
   "execution_count": 15,
   "metadata": {},
   "outputs": [
    {
     "data": {
      "text/plain": []
     },
     "execution_count": 15,
     "metadata": {},
     "output_type": "execute_result"
    }
   ],
   "source": [
    "# LOGIN:\n",
    "\n",
    "client.login(LoginRequest(user=USER, password=PASSWORD))\n"
   ]
  },
  {
   "cell_type": "code",
   "execution_count": 16,
   "metadata": {},
   "outputs": [],
   "source": [
    "# create market portfolio\n",
    "\n",
    "PORTFOLIO = 'simpleTest - ' + time.strftime('%Y%d%m %H:%M:%S')\n",
    "\n",
    "\n",
    "try:\n",
    "    client.createMarketPortfolio(CreateMarketPortfolioRequest(name=PORTFOLIO, type=PortfolioType.Pure))\n",
    "except grpc.RpcError as e:\n",
    "    error_code = dict(e.initial_metadata()).get('errorcode', None)\n",
    "    if error_code != 'CannotCreatePortfolio':\n",
    "        raise e\n",
    "    logging.info('Portfolio already exists')\n",
    "\n",
    "# load targets from CSV file\n",
    "instruments = set()\n",
    "targets = []\n",
    "with open(directory + '/' + FILE_NAME, 'r') as csvfile:\n",
    "    reader = csv.DictReader(csvfile, delimiter=',', quotechar='\"')\n",
    "    for row in reader:\n",
    "        target = {'stringFields': {k: v for k, v in row.items() if k in STRING_FIELDS},\n",
    "                  'numericFields': {k: float(v) for k, v in row.items() if k not in STRING_FIELDS}}\n",
    "        targets.append(target)\n",
    "        instruments.add(row['Instrument'])\n",
    "\n",
    "# create market targets\n",
    "target_ids = client.addMarketTargets(AddMarketTargetsRequest(\n",
    "    portfolio=PORTFOLIO,\n",
    "    fields=targets\n",
    ")).targetId\n"
   ]
  },
  {
   "cell_type": "code",
   "execution_count": 17,
   "metadata": {},
   "outputs": [
    {
     "name": "stderr",
     "output_type": "stream",
     "text": [
      "2020-09-29 16:17:58,193 INFO   New target 18156 added\n",
      "2020-09-29 16:17:58,196 INFO   New target 18157 added\n"
     ]
    }
   ],
   "source": [
    "# subscribe for market targets\n",
    "\n",
    "def market_target_event_processor(event):\n",
    "    event_case = event.WhichOneof('event')\n",
    "    if event_case == 'added':\n",
    "        added = event.added\n",
    "        target_id = added.targetId\n",
    "        logging.info('New target ' + str(target_id )+ ' added')\n",
    "    elif event_case == 'updated':\n",
    "        updated = event.updated\n",
    "        logging.info('Target ' + str(updated.targetId )+ ' updated')\n",
    "\n",
    "\n",
    "market_target_subscription_queue = IterableQueue(SubscribeForTargetsRequest(\n",
    "    filter=\"Portfolio = '\" + PORTFOLIO + \"'\",\n",
    "    field=['TgtID', 'Unreleased', 'Text']\n",
    "))\n",
    "events = client.subscribeForMarketTargets(iter(market_target_subscription_queue))\n",
    "EventThread(events, market_target_event_processor).start()"
   ]
  },
  {
   "cell_type": "code",
   "execution_count": 18,
   "metadata": {},
   "outputs": [
    {
     "name": "stderr",
     "output_type": "stream",
     "text": [
      "2020-09-29 16:18:01,197 INFO   New target 18158 added\n"
     ]
    }
   ],
   "source": [
    "\"\"\" add another target to an exisiting portfolio \"\"\"\n",
    "target_id = client.addMarketTargets(AddTargetsRequest(\n",
    "    portfolio=PORTFOLIO,\n",
    "    fields=[{\n",
    "        'stringFields': {'Instrument': 'MSFT', 'TrnDestination': 'Simulator1'},\n",
    "        'numericFields': {'Side': Side_Buy, 'TgtQty': 1500, 'TgtOrdType': OrdType_Market, 'WaveSizeType': WaveSizeType_PctTgtQty, 'WaveSize': 100}}\n",
    "    ]\n",
    ")).targetId[0]\n"
   ]
  },
  {
   "cell_type": "code",
   "execution_count": 19,
   "metadata": {},
   "outputs": [
    {
     "data": {
      "text/plain": []
     },
     "execution_count": 19,
     "metadata": {},
     "output_type": "execute_result"
    }
   ],
   "source": [
    "\"\"\" modify market target \"\"\"\n",
    "client.modifyMarketTargets(ModifyTargetsRequest(\n",
    "    targetId=[target_id],\n",
    "    fields=[{\n",
    "        'stringFields': {'TrnDestination': 'Simulator1'},\n",
    "        'numericFields': {'WaveSizeType': WaveSizeType_PctTgtQty, 'WaveSize': 50}}\n",
    "    ]\n",
    "))"
   ]
  },
  {
   "cell_type": "code",
   "execution_count": 20,
   "metadata": {},
   "outputs": [
    {
     "data": {
      "text/plain": []
     },
     "execution_count": 20,
     "metadata": {},
     "output_type": "execute_result"
    },
    {
     "name": "stderr",
     "output_type": "stream",
     "text": [
      "2020-09-29 16:18:04,201 INFO   Target 18158 updated\n"
     ]
    }
   ],
   "source": [
    "\"\"\" send target order with additional field(s) in the message \"\"\"\n",
    "client.sendOrders(SendOrdersRequest(\n",
    "    targetId=[target_id],\n",
    "    message=[{\n",
    "        'stringFields': {FIXTag_Text: 'NOFILL'}}\n",
    "    ]\n",
    "))"
   ]
  },
  {
   "cell_type": "code",
   "execution_count": null,
   "metadata": {},
   "outputs": [],
   "source": []
  }
 ],
 "metadata": {
  "kernelspec": {
   "display_name": "Python 3",
   "language": "python",
   "name": "python3"
  },
  "language_info": {
   "codemirror_mode": {
    "name": "ipython",
    "version": 3
   },
   "file_extension": ".py",
   "mimetype": "text/x-python",
   "name": "python",
   "nbconvert_exporter": "python",
   "pygments_lexer": "ipython3",
   "version": "3.5.6"
  }
 },
 "nbformat": 4,
 "nbformat_minor": 2
}
